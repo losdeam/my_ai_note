{
 "cells": [
  {
   "cell_type": "code",
   "execution_count": 65,
   "metadata": {},
   "outputs": [],
   "source": [
    "\n",
    "from nes_py.wrappers import JoypadSpace\n",
    "import gym_super_mario_bros\n",
    "from gym_super_mario_bros.actions import SIMPLE_MOVEMENT\n"
   ]
  },
  {
   "cell_type": "code",
   "execution_count": 66,
   "metadata": {},
   "outputs": [],
   "source": [
    "#借助包gym_super_mario_bros创建\n",
    "env = gym_super_mario_bros.make('SuperMarioBros-v0')\n",
    "env = JoypadSpace(env, SIMPLE_MOVEMENT)"
   ]
  },
  {
   "cell_type": "code",
   "execution_count": 9,
   "metadata": {},
   "outputs": [],
   "source": []
  },
  {
   "cell_type": "code",
   "execution_count": 14,
   "metadata": {},
   "outputs": [
    {
     "name": "stdout",
     "output_type": "stream",
     "text": [
      "env.action_space:  Discrete(7)\n"
     ]
    }
   ],
   "source": [
    "print(\"env.action_space: \", env.action_space)"
   ]
  },
  {
   "cell_type": "markdown",
   "metadata": {},
   "source": [
    "下面这一步在最新版本的gym中可能会出现报错，问题在于env.step的返回值个数在不同的版本中不同。介于还在学习过程，建议先将gym的版本拉低"
   ]
  },
  {
   "cell_type": "code",
   "execution_count": 67,
   "metadata": {},
   "outputs": [],
   "source": [
    "\n",
    "done = True\n",
    "import cv2  \n",
    "for step in range(7000):\n",
    "    # if step % 100 == 0:\n",
    "    #     print(step//100)\n",
    "    # print(step)\n",
    "    if done:\n",
    "        state = env.reset()\n",
    "    action = env.action_space.sample()\n",
    "    state, reward, done, info = env.step(step //1000)\n",
    "    cv2.imshow(\"game\",state)\n",
    "\n",
    "    if cv2.waitKey(1) &  0xff == ord(\"q\"): # 在英文状态下，按下按s键 q 会关闭显示窗口    \n",
    "        break\n",
    "cv2.destroyAllWindows()\n",
    "env.close()\n",
    "env = gym_super_mario_bros.make('SuperMarioBros-v0')\n",
    "env = JoypadSpace(env, SIMPLE_MOVEMENT)"
   ]
  },
  {
   "cell_type": "markdown",
   "metadata": {},
   "source": [
    "强化学习执行step动作的返回一般是标准的，所以这里的返回同前面的倒立摆，动作执行后，环境返回四个变量（obj:新的观测值（一帧rgb图片）、reward：执行该动作获得的奖励值（在游戏中的得分）、done:回合是否结束（你控制的小人是不是死了，对应回合结束）、info:额外信息（比如'life': 2，剩余2条命等））"
   ]
  },
  {
   "cell_type": "code",
   "execution_count": 2,
   "metadata": {},
   "outputs": [],
   "source": [
    "import gym_super_mario_bros\n",
    "from gym.spaces import Box\n",
    "from gym import Wrapper\n",
    "from nes_py.wrappers import JoypadSpace#BinarySpaceToDiscreteSpaceEnv\n",
    "from gym_super_mario_bros.actions import SIMPLE_MOVEMENT, COMPLEX_MOVEMENT, RIGHT_ONLY\n",
    "import cv2\n",
    "import numpy as np\n",
    "import subprocess as sp"
   ]
  },
  {
   "cell_type": "code",
   "execution_count": 9,
   "metadata": {},
   "outputs": [],
   "source": [
    "def process_frame(frame):\n",
    "    if frame is not None:\n",
    "        frame = cv2.cvtColor(frame, cv2.COLOR_RGB2GRAY) #图像转换\n",
    "        \n",
    "        frame = cv2.resize(frame, (84, 84))[None, :, :] / 255. #裁剪合适大小，并归一化\n",
    "\n",
    "        return frame\n",
    "    else:\n",
    "        return np.zeros((1,84, 84))"
   ]
  },
  {
   "cell_type": "code",
   "execution_count": 60,
   "metadata": {},
   "outputs": [],
   "source": [
    "\n",
    "class CustomSkipFrame(Wrapper):\n",
    "    def __init__(self, env, skip=4):\n",
    "        super(CustomSkipFrame, self).__init__(env)\n",
    "        self.observation_space = Box(low=0, high=255, shape=(4, 84, 84))\n",
    "        self.skip = skip\n",
    "\n",
    "    def step(self, action):\n",
    "        total_reward = 0\n",
    "        states = []\n",
    "        state, reward, done, info = self.env.step(action)\n",
    "        for i in range(self.skip):\n",
    "            if not done:\n",
    "                state, reward, done, info = self.env.step(action)\n",
    "                total_reward += reward\n",
    "                states.append(state)\n",
    "            else:\n",
    "                states.append(state)\n",
    "        states = np.concatenate(states, 0)[None, :, :, :]\n",
    "        return states.astype(np.float32), reward, done, info\n",
    "\n",
    "    def reset(self):\n",
    "        state = self.env.reset()\n",
    "        states = np.concatenate([state for _ in range(self.skip)], 0)[None, :, :, :]\n",
    "        return states.astype(np.float32)\n",
    "\n"
   ]
  },
  {
   "cell_type": "code",
   "execution_count": 55,
   "metadata": {},
   "outputs": [],
   "source": [
    "class CustomReward(Wrapper):\n",
    "    def __init__(self, env=None):\n",
    "        super(CustomReward, self).__init__(env)\n",
    "        self.observation_space = Box(low=0, high=255, shape=(1, 84, 84))\n",
    "        self.curr_score = 0\n",
    "        self.pre_x = 38 \n",
    "    def step(self, action):\n",
    "        state, reward, done, info = self.env.step(action) \n",
    "        state = process_frame(state)\n",
    "        reward += (info[\"score\"] - self.curr_score) / 50.\n",
    "        \n",
    "        reward += (info[\"x_pos\"] - self.pre_x ) * 10.\n",
    "        self.pre_x = info[\"x_pos\"]\n",
    "        # self.pre_x = info[\"x_pos\"]\n",
    "        self.curr_score = info[\"score\"]\n",
    "        if done:\n",
    "            if info[\"flag_get\"]:\n",
    "                reward += 5000\n",
    "            else:\n",
    "                reward -= 50\n",
    "        return state, reward/10. , done, info\n",
    "\n",
    "    def reset(self):\n",
    "        self.curr_score = 0\n",
    "        return process_frame(self.env.reset())"
   ]
  },
  {
   "cell_type": "code",
   "execution_count": 56,
   "metadata": {},
   "outputs": [],
   "source": [
    "#至此，我们完成了超级玛丽环境的自定义，封装如下：\n",
    "def create_train_env(world, stage, action_type, output_path=None):\n",
    "    env = gym_super_mario_bros.make(\"SuperMarioBros-{}-{}-v0\".format(world, stage))\n",
    "    if action_type == \"right\":\n",
    "        actions = RIGHT_ONLY\n",
    "    elif action_type == \"simple\":\n",
    "        actions = SIMPLE_MOVEMENT\n",
    "    else:\n",
    "        actions = COMPLEX_MOVEMENT\n",
    "    env = JoypadSpace(env, actions)\n",
    "    env = CustomReward(env)\n",
    "    env = CustomSkipFrame(env)\n",
    "    return env, env.observation_space.shape[0], len(actions)"
   ]
  },
  {
   "cell_type": "code",
   "execution_count": 62,
   "metadata": {},
   "outputs": [
    {
     "name": "stdout",
     "output_type": "stream",
     "text": [
      "<CustomSkipFrame<CustomReward<JoypadSpace<TimeLimit<SuperMarioBrosEnv<SuperMarioBros-1-1-v0>>>>>>\n"
     ]
    }
   ],
   "source": [
    "#测试一下\n",
    "custom_env,_,_ = create_train_env(1,1,'simple')\n",
    "print(custom_env)\n"
   ]
  },
  {
   "cell_type": "markdown",
   "metadata": {},
   "source": []
  },
  {
   "cell_type": "code",
   "execution_count": 58,
   "metadata": {},
   "outputs": [
    {
     "name": "stdout",
     "output_type": "stream",
     "text": [
      "失败了,第1次尝试,比最好成绩好了683,奖励值为1086.280000000002,目前最远距离为721\n",
      "失败了,第5次尝试,比最好成绩好了1,奖励值为12.099999999999987,目前最远距离为722\n",
      "失败了,第8次尝试,比最好成绩好了406,奖励值为21.19999999999999,目前最远距离为1128\n",
      "失败了,第9次尝试,比最好成绩好了4,奖励值为20.999999999999964,目前最远距离为1132\n",
      "失败了,第14次尝试,比最好成绩好了75,奖励值为24.09999999999996,目前最远距离为1207\n",
      "失败了,第24次尝试,比最好成绩好了6,奖励值为25.699999999999967,目前最远距离为1213\n",
      "失败了,第58次尝试,比最好成绩好了13,奖励值为26.19999999999998,目前最远距离为1226\n",
      "失败了,第63次尝试,比最好成绩好了205,奖励值为33.00000000000003,目前最远距离为1431\n",
      "失败了,第77次尝试,比最好成绩好了228,奖励值为40.399999999999984,目前最远距离为1659\n",
      "失败了,第307次尝试,比最好成绩好了297,奖励值为48.599999999999994,目前最远距离为1956\n",
      "失败了,第334次尝试,比最好成绩好了62,奖励值为48.5,目前最远距离为2018\n"
     ]
    }
   ],
   "source": [
    "custom_env.reset()\n",
    "done = True\n",
    "flag =False \n",
    "step_ = 0 \n",
    "n = 1\n",
    "max_x = 38 \n",
    "\n",
    "import cv2  \n",
    "for step in range(50000):\n",
    "    if done == True :\n",
    "        custom_env.reset()\n",
    "        \n",
    "        if flag:\n",
    "            print(f\"成功了,距离上一次成功经过了{step-step_}步\")\n",
    "            step_ = step \n",
    "        x = info[\"x_pos\"]\n",
    "        if   x > max_x :\n",
    "            print(f\"失败了,第{n}次尝试,比最好成绩好了{x  - max_x},奖励值为{total_reward},目前最远距离为{x}\")\n",
    "            max_x = x\n",
    "        total_reward = 0 \n",
    "        n+=1 \n",
    "    action = custom_env.action_space.sample() \n",
    "    states, reward, done, info = custom_env.step(action)\n",
    "    total_reward += reward\n",
    "    ############# 显示过程 ##################\n",
    "    # flag = info[\"flag_get\"]\n",
    "    # print(info)\n",
    "    # states = states[0]\n",
    "    # for state in states:\n",
    "    #     state.reshape(state.shape+(1,))\n",
    "    #     cv2.imshow(\"test\",state)\n",
    "    # if cv2.waitKey(1) &  0xff == ord(\"q\"): # 在英文状态下，按下按s键 q 会关闭显示窗口    \n",
    "    #     break\n",
    "    ##################################################\n",
    "    \n",
    "# cv2.destroyAllWindows()\n",
    "custom_env.close()\n",
    "cv2.destroyAllWindows()"
   ]
  },
  {
   "cell_type": "code",
   "execution_count": 63,
   "metadata": {},
   "outputs": [
    {
     "name": "stdout",
     "output_type": "stream",
     "text": [
      "失败了,第1次尝试,比最好成绩好了198,奖励值为6.300000000000001,目前最远距离为236\n",
      "失败了,第2次尝试,比最好成绩好了447,奖励值为20.59999999999996,目前最远距离为683\n",
      "失败了,第4次尝试,比最好成绩好了215,奖励值为28.699999999999953,目前最远距离为898\n",
      "失败了,第8次尝试,比最好成绩好了510,奖励值为49.499999999999964,目前最远距离为1408\n",
      "失败了,第25次尝试,比最好成绩好了240,奖励值为60.800000000000104,目前最远距离为1648\n",
      "失败了,第36次尝试,比最好成绩好了14,奖励值为56.60000000000004,目前最远距离为1662\n",
      "失败了,第111次尝试,比最好成绩好了349,奖励值为71.10000000000008,目前最远距离为2011\n"
     ]
    }
   ],
   "source": [
    "custom_env.reset()\n",
    "done = True\n",
    "flag =False \n",
    "step_ = 0 \n",
    "n = 1\n",
    "max_x = 38 \n",
    "\n",
    "import cv2  \n",
    "for step in range(50000):\n",
    "    if done == True :\n",
    "        custom_env.reset()\n",
    "        \n",
    "        if flag:\n",
    "            print(f\"成功了,距离上一次成功经过了{step-step_}步\")\n",
    "            step_ = step \n",
    "        x = info[\"x_pos\"]\n",
    "        if   x > max_x :\n",
    "            print(f\"失败了,第{n}次尝试,比最好成绩好了{x  - max_x},奖励值为{total_reward},目前最远距离为{x}\")\n",
    "            max_x = x\n",
    "        total_reward = 0 \n",
    "        n+=1 \n",
    "    action = custom_env.action_space.sample() \n",
    "    states, reward, done, info = custom_env.step(action)\n",
    "    total_reward += reward\n",
    "    ############# 显示过程 ##################\n",
    "    # flag = info[\"flag_get\"]\n",
    "    # print(info)\n",
    "    # states = states[0]\n",
    "    # for state in states:\n",
    "    #     state.reshape(state.shape+(1,))\n",
    "    #     cv2.imshow(\"test\",state)\n",
    "    # if cv2.waitKey(1) &  0xff == ord(\"q\"): # 在英文状态下，按下按s键 q 会关闭显示窗口    \n",
    "    #     break\n",
    "    ##################################################\n",
    "    \n",
    "# cv2.destroyAllWindows()\n",
    "custom_env.close()\n",
    "cv2.destroyAllWindows()"
   ]
  },
  {
   "cell_type": "markdown",
   "metadata": {},
   "source": [
    "发现一个问题在于如果不进行跳过帧这一操作时，马里奥有可能会出现一直小跳而跳不出较高的柱子的情况"
   ]
  },
  {
   "cell_type": "markdown",
   "metadata": {},
   "source": [
    "教程中使用的是4帧的跳过，依然存在连续小跳的情况，于是将skip调整至8进行尝试。连续小跳的情况得到了较好的解决，但是存在马里奥往坑里跳的情况。"
   ]
  },
  {
   "cell_type": "markdown",
   "metadata": {},
   "source": [
    "由于不熟悉reward的反馈机制，所以很难设置reward值。\n"
   ]
  },
  {
   "cell_type": "markdown",
   "metadata": {},
   "source": [
    "知道原因了，上文所有的操作实现的只是随机动作，并不存在学习功能。"
   ]
  },
  {
   "cell_type": "markdown",
   "metadata": {},
   "source": [
    "具有学习功能的在下章"
   ]
  },
  {
   "cell_type": "markdown",
   "metadata": {},
   "source": []
  }
 ],
 "metadata": {
  "kernelspec": {
   "display_name": "ppo",
   "language": "python",
   "name": "python3"
  },
  "language_info": {
   "codemirror_mode": {
    "name": "ipython",
    "version": 3
   },
   "file_extension": ".py",
   "mimetype": "text/x-python",
   "name": "python",
   "nbconvert_exporter": "python",
   "pygments_lexer": "ipython3",
   "version": "3.9.17"
  },
  "orig_nbformat": 4
 },
 "nbformat": 4,
 "nbformat_minor": 2
}
